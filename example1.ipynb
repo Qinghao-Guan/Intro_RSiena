{
 "cells": [
  {
   "cell_type": "code",
   "execution_count": 1,
   "id": "826c3bef",
   "metadata": {},
   "outputs": [],
   "source": [
    "library(RSiena)\n",
    "setwd(\"./data2\") "
   ]
  },
  {
   "cell_type": "markdown",
   "id": "bd19becc",
   "metadata": {},
   "source": [
    "# 数据介绍\n",
    "## 网络矩阵\n",
    "Kapferer的原始数据集包含4个39x39的网络矩阵，分别记录了两个不同时间点（相隔七个月）的“工具性互动”和“结社性互动”：\n",
    "\n",
    "- 4个39x39的网络矩阵,分别记录了两个时间点的“工具性互动”和“结社性互动”。\n",
    "  - 工具性互动:工作相关的互动\n",
    "  - 结社性互动:友谊相关的互动\n",
    "- 2个节点属性文件,记录了员工的职业类别等属性信息\n",
    "\n",
    "每个矩阵的39行和39列分别代表39个员工，矩阵的元素表示相应员工之间的互动存在（1）或不存在（0）。这些矩阵可以用来观察员工之间的互动模式如何随着时间的推移而改变。\n",
    "\n",
    "## 节点属性文件\n",
    "数据集还包括两个节点属性文件，记录了每个员工的属性：\n",
    "* kapfa_stat.dat：记录员工的职业类别（例如裁剪师、铁匠等）。\n",
    "* kapfat.dat：第一个变量表示是否是最核心的员工（Lyashi），第二个变量表示是否在高职位工作。\n",
    "这些属性可以作为协变量，有助于解释网络互动变化的原因。\n",
    "\n",
    "# 变量设定\n",
    "## 读取网络数据\n",
    "首先，我们读取了四个网络数据文件，并将它们转换为矩阵形式。"
   ]
  },
  {
   "cell_type": "code",
   "execution_count": 2,
   "id": "1f4de56b",
   "metadata": {},
   "outputs": [],
   "source": [
    "net1 <- as.matrix(read.table(\"kapfts1.dat\"))\n",
    "net2 <- as.matrix(read.table(\"kapfts2.dat\"))\n",
    "net3 <- as.matrix(read.table(\"kapfti1.dat\")) \n",
    "net4 <- as.matrix(read.table(\"kapfti2.dat\"))"
   ]
  },
  {
   "cell_type": "markdown",
   "id": "62d9dac3",
   "metadata": {},
   "source": [
    "接下来，我们将四个矩阵合并为一个三维数组，其中每个维度代表一个不同的时间点和互动类型。这样的结构有助于在Siena模型中分析动态网络变化。"
   ]
  },
  {
   "cell_type": "code",
   "execution_count": 3,
   "id": "06ee1396",
   "metadata": {},
   "outputs": [],
   "source": [
    "network <- array(c(net1, net2, net3, net4), dim = c(39, 39, 4))\n",
    "net <- sienaDependent(network, type=\"oneMode\")"
   ]
  },
  {
   "cell_type": "markdown",
   "id": "170794b8",
   "metadata": {},
   "source": [
    "读取两个属性文件，并将它们转换为协变量，以条件化员工的职业状态和中心性对网络互动的影响。"
   ]
  },
  {
   "cell_type": "code",
   "execution_count": 4,
   "id": "c2e5a06e",
   "metadata": {},
   "outputs": [],
   "source": [
    "attr1 <- as.matrix(read.table(\"kapfa_stat.dat\"))\n",
    "attr2 <- as.matrix(read.table(\"kapfat.dat\"))\n",
    "\n",
    "job_status <- coCovar(attr1[,1])\n",
    "centrality <- coCovar(attr2[,1])  "
   ]
  },
  {
   "cell_type": "markdown",
   "id": "bae02938",
   "metadata": {},
   "source": [
    "使用所有这些组件构建了一个完整的Siena数据对象，用于后续分析。\n",
    "\n",
    "模型设定"
   ]
  },
  {
   "cell_type": "code",
   "execution_count": 5,
   "id": "8951ce8a",
   "metadata": {},
   "outputs": [],
   "source": [
    "data <- sienaDataCreate(net, job_status, centrality)"
   ]
  },
  {
   "cell_type": "markdown",
   "id": "b7683969",
   "metadata": {},
   "source": [
    "\n",
    "## 模型设定\n",
    "\n",
    "在模型设定阶段，选择了影响网络变化的效应。这些效应反映了网络结构和协变量对网络动态的影响：\n",
    "\n",
    "* 密度效应：反映了网络中的总体连接程度。\n",
    "* 互惠效应：衡量了网络中双向连接的倾向。\n",
    "* 传递闭包效应：描述了朋友的朋友成为朋友的倾向。\n",
    "* 协变量的自我效应：例如，工作状态可能影响个体的连接倾向。\n",
    "\n",
    "我们首先用`getEffects()`获得所有默认效应。然后使用`includeEffects()`选择感兴趣的效应加入模型,包括密度效应、互惠效应、传递闭包效应和协变量的自我效应。最后用`sienaModelCreate()` función创建模型对象。\n",
    "\n",
    "获得所有默认效应:"
   ]
  },
  {
   "cell_type": "code",
   "execution_count": 6,
   "id": "b0c15857",
   "metadata": {},
   "outputs": [],
   "source": [
    "eff <- getEffects(data)"
   ]
  },
  {
   "cell_type": "markdown",
   "id": "392b33f4",
   "metadata": {},
   "source": [
    "选择如下效应:"
   ]
  },
  {
   "cell_type": "code",
   "execution_count": 7,
   "id": "6bc8438f",
   "metadata": {},
   "outputs": [
    {
     "name": "stdout",
     "output_type": "stream",
     "text": [
      "  effectName          include fix   test  initialValue parm\n",
      "1 outdegree (density) TRUE    FALSE FALSE   -0.73042   0   \n",
      "2 reciprocity         TRUE    FALSE FALSE    0.00000   0   \n",
      "3 transitive triplets TRUE    FALSE FALSE    0.00000   0   \n"
     ]
    }
   ],
   "source": [
    "eff <- includeEffects(eff, density, recip, transTrip, inPop_job_status)"
   ]
  },
  {
   "cell_type": "markdown",
   "id": "7e6c4961",
   "metadata": {},
   "source": [
    "创建模型:"
   ]
  },
  {
   "cell_type": "code",
   "execution_count": 8,
   "id": "6222705c",
   "metadata": {},
   "outputs": [
    {
     "name": "stdout",
     "output_type": "stream",
     "text": [
      "If you use this algorithm object, siena07 will create/use an output file Kapferer.txt .\n"
     ]
    }
   ],
   "source": [
    "model <- sienaModelCreate(data, eff, projname=\"Kapferer\")"
   ]
  },
  {
   "cell_type": "markdown",
   "id": "baaea037",
   "metadata": {},
   "source": [
    "\n",
    "## 模型估计\n",
    "\n",
    "我们使用`sienaAlgorithmCreate()`函数创建算法对象,然后用`siena07()`函数进行模型估计。\n",
    "\n",
    "`sienaAlgorithmCreate()`允许设定估计的参数。`siena07()`将数据、效应和算法作为输入,经过迭代计算后输出模型结果。\n",
    "\n",
    "创建算法对象:"
   ]
  },
  {
   "cell_type": "code",
   "execution_count": 9,
   "id": "d70e114b",
   "metadata": {},
   "outputs": [
    {
     "name": "stdout",
     "output_type": "stream",
     "text": [
      "If you use this algorithm object, siena07 will create/use an output file Kapferer.txt .\n"
     ]
    }
   ],
   "source": [
    "alg <- sienaAlgorithmCreate(projname=\"Kapferer\")"
   ]
  },
  {
   "cell_type": "markdown",
   "id": "62402661",
   "metadata": {},
   "source": [
    "进行模型估计:"
   ]
  },
  {
   "cell_type": "code",
   "execution_count": 10,
   "id": "da1237e9",
   "metadata": {},
   "outputs": [],
   "source": [
    "est.results <- siena07(alg, data=data, effects=eff)"
   ]
  },
  {
   "cell_type": "markdown",
   "id": "7b0ee81b",
   "metadata": {},
   "source": [
    "## 结果输出\n",
    "\n",
    "这些结果可以用来解释网络结构和动态的关键驱动因素，以及每个效应对网络变化的具体影响。\n",
    "\n",
    "基础报告:提供了关于数据和模型的基本信息。"
   ]
  },
  {
   "cell_type": "code",
   "execution_count": 11,
   "id": "654e41ea",
   "metadata": {},
   "outputs": [],
   "source": [
    "print01Report(data)"
   ]
  },
  {
   "cell_type": "markdown",
   "id": "c81c26bc",
   "metadata": {},
   "source": [
    "模型估计结果:提供了关于所选效应的估计值、标准误差等的详细信息。"
   ]
  },
  {
   "cell_type": "code",
   "execution_count": 12,
   "id": "d13884c3",
   "metadata": {},
   "outputs": [
    {
     "data": {
      "text/plain": [
       "Estimates, standard errors and convergence t-ratios\n",
       "\n",
       "                                   Estimate   Standard   Convergence \n",
       "                                                Error      t-ratio   \n",
       "\n",
       "Rate parameters: \n",
       "  0.1      Rate parameter period 1 46.7198  ( 6.8852   )             \n",
       "  0.2      Rate parameter period 2 49.1448  ( 7.0656   )             \n",
       "  0.3      Rate parameter period 3 19.3736  ( 3.6543   )             \n",
       "\n",
       "Other parameters: \n",
       "  1.  eval outdegree (density)     -2.4410  ( 0.0999   )   0.0644    \n",
       "  2.  eval reciprocity              3.1411  ( 0.1653   )   0.0751    \n",
       "  3.  eval transitive triplets      0.0645  ( 0.0049   )   0.1336    \n",
       "\n",
       "Overall maximum convergence ratio:    0.2113 \n",
       "\n",
       "\n",
       "Total of 1807 iteration steps.\n",
       "\n",
       "Covariance matrix of estimates (correlations below diagonal)\n",
       "\n",
       "       0.010       -0.015        0.000\n",
       "      -0.927        0.027        0.000\n",
       "      -0.422        0.152        0.000\n",
       "\n",
       "Derivative matrix of expected statistics X by parameters:\n",
       "\n",
       "    3144.435     3079.791    38811.484\n",
       "    1647.118     1660.231    19743.129\n",
       "   26336.440    26148.386   466422.476\n",
       "\n",
       "Covariance matrix of X (correlations below diagonal):\n",
       "\n",
       "    7505.101     7426.981   119821.428\n",
       "       0.995     7416.389   119566.763\n",
       "       0.914        0.917  2292159.194"
      ]
     },
     "metadata": {},
     "output_type": "display_data"
    }
   ],
   "source": [
    "summary(est.results)"
   ]
  },
  {
   "cell_type": "code",
   "execution_count": null,
   "id": "803661fc",
   "metadata": {},
   "outputs": [],
   "source": []
  }
 ],
 "metadata": {
  "kernelspec": {
   "display_name": "R",
   "language": "R",
   "name": "ir"
  },
  "language_info": {
   "codemirror_mode": "r",
   "file_extension": ".r",
   "mimetype": "text/x-r-source",
   "name": "R",
   "pygments_lexer": "r",
   "version": "4.3.1"
  }
 },
 "nbformat": 4,
 "nbformat_minor": 5
}
